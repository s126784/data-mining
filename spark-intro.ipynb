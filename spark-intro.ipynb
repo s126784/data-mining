{
 "cells": [
  {
   "cell_type": "markdown",
   "metadata": {},
   "source": [
    "Spark Intro\n",
    "by Oleksandr (#126784)"
   ]
  },
  {
   "cell_type": "markdown",
   "metadata": {},
   "source": [
    "### 1. Setup Spark environment"
   ]
  },
  {
   "cell_type": "code",
   "execution_count": 101,
   "metadata": {},
   "outputs": [],
   "source": [
    "from pyspark.sql import SparkSession\n",
    "import re"
   ]
  },
  {
   "cell_type": "code",
   "execution_count": 102,
   "metadata": {},
   "outputs": [],
   "source": [
    "spark = SparkSession.builder \\\n",
    "    .appName(\"Spark-Intro-App\") \\\n",
    "    .config(\"spark.driver.extraJavaOptions\", \"-Djava.security.manager=allow\") \\\n",
    "    .config(\"spark.executor.extraJavaOptions\", \"-Djava.security.manager=allow\") \\\n",
    "    .getOrCreate()\n",
    "\n",
    "sc = spark.sparkContext\n",
    "sc.setLogLevel(\"WARN\")\n"
   ]
  },
  {
   "cell_type": "code",
   "execution_count": 103,
   "metadata": {},
   "outputs": [],
   "source": [
    "data = sc.textFile(\"lusiadas.txt\")"
   ]
  },
  {
   "cell_type": "markdown",
   "metadata": {},
   "source": [
    "### 2. Count of the occurrences of each word in the text"
   ]
  },
  {
   "cell_type": "code",
   "execution_count": 104,
   "metadata": {},
   "outputs": [
    {
     "name": "stdout",
     "output_type": "stream",
     "text": [
      "luís: 2\n",
      "vaz: 1\n",
      "de: 1434\n",
      "camões: 1\n",
      "os: 744\n",
      "lusíadas: 1\n",
      "canto: 24\n",
      "primeiro: 34\n",
      "1: 10\n",
      "as: 505\n"
     ]
    }
   ],
   "source": [
    "# words_rdd = data.flatMap(lambda line: line.lower().split()).filter(lambda word: word.strip() != \"\")\n",
    "words_rdd = data.flatMap(lambda line: re.findall(r'\\b\\w+\\b', line.lower()))\n",
    "word_counts = words_rdd.countByValue()\n",
    "\n",
    "for word, count in list(word_counts.items())[:10]:\n",
    "    print(f\"{word}: {count}\")\n"
   ]
  },
  {
   "cell_type": "markdown",
   "metadata": {},
   "source": [
    "### 3. Adapt the code to find the count of the occurrences of each word in the text"
   ]
  },
  {
   "cell_type": "code",
   "execution_count": 109,
   "metadata": {},
   "outputs": [
    {
     "name": "stdout",
     "output_type": "stream",
     "text": [
      "['luís', 'vaz', 'camões', 'lusíadas', 'canto', 'primeiro', 'armas', 'barões', 'assinalados', 'que']\n"
     ]
    }
   ],
   "source": [
    "long_words = words_rdd.filter(lambda word: len(word) >= 3)\n",
    "print(long_words.take(10))"
   ]
  },
  {
   "cell_type": "code",
   "execution_count": null,
   "metadata": {},
   "outputs": [],
   "source": [
    "# bigrams = long_words.flatMap(lambda x: [x,x]).zipWithIndex().map(lambda x: ((1 + x[1]) // 2, x[0])).groupByKey().mapValues(list)\n",
    "# print(bigrams.take(10))"
   ]
  },
  {
   "cell_type": "code",
   "execution_count": 141,
   "metadata": {},
   "outputs": [
    {
     "data": {
      "text/plain": [
       "[(79, ('não', 'que')),\n",
       " (54, ('que', 'mais')),\n",
       " (53, ('que', 'com')),\n",
       " (51, ('que', 'por')),\n",
       " (49, ('com', 'que')),\n",
       " (42, ('por', 'que')),\n",
       " (36, ('lhe', 'que')),\n",
       " (30, ('que', 'rei')),\n",
       " (28, ('tão', 'que')),\n",
       " (26, ('tanto', 'que'))]"
      ]
     },
     "execution_count": 141,
     "metadata": {},
     "output_type": "execute_result"
    }
   ],
   "source": [
    "indexed_words = long_words.zipWithIndex()\n",
    "bigrams = indexed_words.map(lambda x: (x[1], x[0])) \\\n",
    "                      .join(indexed_words.map(lambda x: (x[1]-1, x[0]))) \\\n",
    "                      .map(lambda x: (x[1][1], x[1][0]))\n",
    "\n",
    "bigram_counts = bigrams.countByValue()\n",
    "sc.parallelize(bigram_counts.items()).map(lambda x: (x[1], x[0])).sortByKey(ascending=False).take(10)"
   ]
  },
  {
   "cell_type": "markdown",
   "metadata": {},
   "source": [
    "### 4. Counting number of uniq long words starting with each letter"
   ]
  },
  {
   "cell_type": "code",
   "execution_count": 146,
   "metadata": {},
   "outputs": [
    {
     "data": {
      "text/plain": [
       "defaultdict(int,\n",
       "            {'l': 284,\n",
       "             'p': 770,\n",
       "             'b': 223,\n",
       "             'a': 1053,\n",
       "             'o': 194,\n",
       "             'n': 221,\n",
       "             'f': 436,\n",
       "             'e': 666,\n",
       "             'r': 407,\n",
       "             't': 460,\n",
       "             's': 581,\n",
       "             'd': 651,\n",
       "             'i': 366,\n",
       "             'á': 22,\n",
       "             'm': 506,\n",
       "             'c': 973,\n",
       "             'q': 91,\n",
       "             'v': 369,\n",
       "             'h': 141,\n",
       "             'g': 230,\n",
       "             'u': 39,\n",
       "             'j': 70,\n",
       "             'â': 4,\n",
       "             'í': 17,\n",
       "             'ó': 6,\n",
       "             'x': 4,\n",
       "             '1': 57,\n",
       "             'ú': 9,\n",
       "             'à': 1,\n",
       "             'z': 9,\n",
       "             'ô': 1,\n",
       "             'é': 1})"
      ]
     },
     "execution_count": 146,
     "metadata": {},
     "output_type": "execute_result"
    }
   ],
   "source": [
    "long_words.distinct().map(lambda word: word[0]).countByValue()"
   ]
  }
 ],
 "metadata": {
  "kernelspec": {
   "display_name": "Python 3",
   "language": "python",
   "name": "python3"
  },
  "language_info": {
   "codemirror_mode": {
    "name": "ipython",
    "version": 3
   },
   "file_extension": ".py",
   "mimetype": "text/x-python",
   "name": "python",
   "nbconvert_exporter": "python",
   "pygments_lexer": "ipython3",
   "version": "3.13.2"
  }
 },
 "nbformat": 4,
 "nbformat_minor": 2
}
